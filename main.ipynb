{
 "cells": [
  {
   "cell_type": "markdown",
   "metadata": {},
   "source": [
    "# Pneumonia Detection Neural Network\n",
    "Carlo Jacobs\n",
    "\n",
    "Sat 17 Nov 2018"
   ]
  },
  {
   "cell_type": "markdown",
   "metadata": {},
   "source": [
    "## Imports"
   ]
  },
  {
   "cell_type": "code",
   "execution_count": 2,
   "metadata": {},
   "outputs": [],
   "source": [
    "# Imports\n",
    "import numpy as np # for doing math stuff\n",
    "import tensorflow as tf # for building the modle\n",
    "from tensorflow import keras # for building the model\n",
    "import pandas as pd # for reading csv\n",
    "import csv # for writing csv\n",
    "import pydicom as pdcm # for reading the image data\n",
    "import matplotlib.pyplot as plt # for visualizing the data\n",
    "import os # for file manipulation\n",
    "from IPython.display import clear_output, display # for clearing output and displaying\n",
    "import json # saving variables because I'm lazy"
   ]
  },
  {
   "cell_type": "markdown",
   "metadata": {},
   "source": [
    "## Helper functions\n",
    "Note: these function may not be fully objective when it comes to their input, they may expect a certain shape of data"
   ]
  },
  {
   "cell_type": "code",
   "execution_count": 3,
   "metadata": {},
   "outputs": [],
   "source": [
    "def display_progress(total, current):\n",
    "    \"\"\"Displays the progress\"\"\"\n",
    "    os.system('clear')\n",
    "    percent = str((current / total) * 100)\n",
    "    print(percent + \"%\")"
   ]
  },
  {
   "cell_type": "code",
   "execution_count": 4,
   "metadata": {},
   "outputs": [],
   "source": [
    "def find_item_index(array, item):\n",
    "    \"\"\"Finds the index of an item in an array\"\"\"\n",
    "    for i in range(0, len(array)):\n",
    "        if item == array[i][0]:\n",
    "            return i"
   ]
  },
  {
   "cell_type": "code",
   "execution_count": 5,
   "metadata": {},
   "outputs": [],
   "source": [
    "def find_item_in_array(array, item):\n",
    "    \"\"\"Returns if an item is in an array\"\"\"\n",
    "    for i in range(0, len(array)):\n",
    "        if item == array[i][0]:\n",
    "            return true\n",
    "    return false"
   ]
  },
  {
   "cell_type": "code",
   "execution_count": 6,
   "metadata": {},
   "outputs": [],
   "source": [
    "def plot_images(images, titles):\n",
    "    \"\"\"Plost a set of images\"\"\"\n",
    "    fig_shape = int(np.ceil(len(images) / 2))\n",
    "    fig = plt.figure(figsize=(20, 20))\n",
    "    for i in range(0, len(images)):\n",
    "        img = images[i]\n",
    "        ax = fig.add_subplot(fig_shape, fig_shape, i + 1)\n",
    "        if len(titles) != 0:\n",
    "            plt.title(titles[i])\n",
    "        ax.imshow(img, cmap=plt.cm.binary)\n",
    "        ax.axis('off')\n",
    "    plt.show()"
   ]
  },
  {
   "cell_type": "code",
   "execution_count": 7,
   "metadata": {},
   "outputs": [],
   "source": [
    "def read_dcm_files(names):\n",
    "    \"\"\"Takes an array of dcm file names and reads the dcm files\"\"\"\n",
    "    print(\"[*] Reading the dcm files...\")\n",
    "    read = lambda name : pdcm.read_file('data/stage_1_train_images/' + name)\n",
    "    files = [read(x) for x in names]\n",
    "    return files"
   ]
  },
  {
   "cell_type": "code",
   "execution_count": 116,
   "metadata": {},
   "outputs": [],
   "source": [
    "def format_data(files, labels):\n",
    "    \"\"\"Takes an array of dcm files and an array of the labels and properly manages the data\"\"\"\n",
    "    print(\"[*] Formatting the data...\")\n",
    "    print(\"[*] Aligning the labels...\")\n",
    "    # Align the labels with the dcm files\n",
    "    indexes = []\n",
    "    for file in files:\n",
    "        patient_id = file.PatientID\n",
    "        i, j = np.where(labels == patient_id)\n",
    "        for index in i:\n",
    "            indexes.append[i]\n",
    "    labels = labels[indexes]\n",
    "\n",
    "    print(\"[*] Normalizing the pixeldata...\")\n",
    "    # Normalize the images\n",
    "    files = files.pixel_array / 255.0\n",
    "\n",
    "    # Return the data\n",
    "    print(\"Done\")\n",
    "    return files, np.array(new_labels)"
   ]
  },
  {
   "cell_type": "markdown",
   "metadata": {},
   "source": [
    "## Loading the data"
   ]
  },
  {
   "cell_type": "code",
   "execution_count": 11,
   "metadata": {},
   "outputs": [],
   "source": [
    "# Get the filenames\n",
    "train_dcm_file_names = os.listdir('data/stage_1_train_images')\n",
    "test_dcm_file_names = os.listdir('data/stage_1_test_images')"
   ]
  },
  {
   "cell_type": "code",
   "execution_count": 12,
   "metadata": {},
   "outputs": [
    {
     "name": "stdout",
     "output_type": "stream",
     "text": [
      "[*] Reading the dcm files...\n"
     ]
    }
   ],
   "source": [
    "# Read the files\n",
    "train_dcm_files = read_dcm_files(train_dcm_file_names)\n",
    "# test_dcm_files = read_dcm_files(test_dcm_file_names)"
   ]
  },
  {
   "cell_type": "code",
   "execution_count": 79,
   "metadata": {},
   "outputs": [
    {
     "data": {
      "text/plain": [
       "array(['0004cfab-14fd-4e49-80ba-63a80b6bddd6', nan, nan, nan, nan, '0'],\n",
       "      dtype=object)"
      ]
     },
     "execution_count": 79,
     "metadata": {},
     "output_type": "execute_result"
    }
   ],
   "source": [
    "# Get the labels\n",
    "train_labels = pd.read_csv('data/stage_1_train_labels.csv', header=None)\n",
    "train_labels = np.array(train_labels)\n",
    "# Remove header\n",
    "train_labels = np.delete(train_labels, 0, 0)\n",
    "train_labels[0]"
   ]
  },
  {
   "cell_type": "markdown",
   "metadata": {},
   "source": [
    "### Data fields of the labels\n",
    "`patientId` - A patientId. Each patientId corresponds to a unique image.\n",
    "\n",
    "`x` - the upper-left x coordinate of the bounding box.\n",
    "\n",
    "`y` - the upper-left y coordinate of the bounding box.\n",
    "\n",
    "`width` - the width of the bounding box.\n",
    "\n",
    "`height` - the height of the bounding box.\n",
    "\n",
    "`Target` - the binary Target, indicating whether this sample has evidence of pneumonia."
   ]
  },
  {
   "cell_type": "markdown",
   "metadata": {},
   "source": [
    "## Format the data"
   ]
  },
  {
   "cell_type": "code",
   "execution_count": 117,
   "metadata": {},
   "outputs": [
    {
     "name": "stdout",
     "output_type": "stream",
     "text": [
      "[*] Formatting the data...\n",
      "[*] Aligning the labels...\n"
     ]
    },
    {
     "ename": "IndexError",
     "evalue": "index 0 is out of bounds for axis 0 with size 0",
     "output_type": "error",
     "traceback": [
      "\u001b[0;31m---------------------------------------------------------------------------\u001b[0m",
      "\u001b[0;31mIndexError\u001b[0m                                Traceback (most recent call last)",
      "\u001b[0;32m<ipython-input-117-2d9e27a0d0b2>\u001b[0m in \u001b[0;36m<module>\u001b[0;34m\u001b[0m\n\u001b[0;32m----> 1\u001b[0;31m \u001b[0;34m(\u001b[0m\u001b[0mtrain_images\u001b[0m\u001b[0;34m,\u001b[0m \u001b[0mtrain_labels\u001b[0m\u001b[0;34m)\u001b[0m \u001b[0;34m=\u001b[0m \u001b[0mformat_data\u001b[0m\u001b[0;34m(\u001b[0m\u001b[0mtrain_dcm_files\u001b[0m\u001b[0;34m,\u001b[0m \u001b[0mtrain_labels\u001b[0m\u001b[0;34m)\u001b[0m\u001b[0;34m\u001b[0m\u001b[0;34m\u001b[0m\u001b[0m\n\u001b[0m",
      "\u001b[0;32m<ipython-input-116-cf7daa7e2e30>\u001b[0m in \u001b[0;36mformat_data\u001b[0;34m(files, labels)\u001b[0m\n\u001b[1;32m      8\u001b[0m         \u001b[0mpatient_id\u001b[0m \u001b[0;34m=\u001b[0m \u001b[0mfile\u001b[0m\u001b[0;34m.\u001b[0m\u001b[0mPatientID\u001b[0m\u001b[0;34m\u001b[0m\u001b[0;34m\u001b[0m\u001b[0m\n\u001b[1;32m      9\u001b[0m         \u001b[0mi\u001b[0m\u001b[0;34m,\u001b[0m \u001b[0mj\u001b[0m \u001b[0;34m=\u001b[0m \u001b[0mnp\u001b[0m\u001b[0;34m.\u001b[0m\u001b[0mwhere\u001b[0m\u001b[0;34m(\u001b[0m\u001b[0mlabels\u001b[0m \u001b[0;34m==\u001b[0m \u001b[0mpatient_id\u001b[0m\u001b[0;34m)\u001b[0m\u001b[0;34m\u001b[0m\u001b[0;34m\u001b[0m\u001b[0m\n\u001b[0;32m---> 10\u001b[0;31m         \u001b[0mindexes\u001b[0m\u001b[0;34m.\u001b[0m\u001b[0mappend\u001b[0m\u001b[0;34m(\u001b[0m\u001b[0mi\u001b[0m\u001b[0;34m[\u001b[0m\u001b[0;36m0\u001b[0m\u001b[0;34m]\u001b[0m\u001b[0;34m)\u001b[0m\u001b[0;34m\u001b[0m\u001b[0;34m\u001b[0m\u001b[0m\n\u001b[0m\u001b[1;32m     11\u001b[0m     \u001b[0mlabels\u001b[0m \u001b[0;34m=\u001b[0m \u001b[0mlabels\u001b[0m\u001b[0;34m[\u001b[0m\u001b[0mindexes\u001b[0m\u001b[0;34m]\u001b[0m\u001b[0;34m\u001b[0m\u001b[0;34m\u001b[0m\u001b[0m\n\u001b[1;32m     12\u001b[0m \u001b[0;34m\u001b[0m\u001b[0m\n",
      "\u001b[0;31mIndexError\u001b[0m: index 0 is out of bounds for axis 0 with size 0"
     ]
    }
   ],
   "source": [
    "(train_images, train_labels) = format_data(train_dcm_files, train_labels)"
   ]
  }
 ],
 "metadata": {
  "kernelspec": {
   "display_name": "Python 3",
   "language": "python",
   "name": "python3"
  },
  "language_info": {
   "codemirror_mode": {
    "name": "ipython",
    "version": 3
   },
   "file_extension": ".py",
   "mimetype": "text/x-python",
   "name": "python",
   "nbconvert_exporter": "python",
   "pygments_lexer": "ipython3",
   "version": "3.7.1"
  }
 },
 "nbformat": 4,
 "nbformat_minor": 2
}
