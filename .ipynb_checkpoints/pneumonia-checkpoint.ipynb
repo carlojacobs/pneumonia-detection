{
 "cells": [
  {
   "cell_type": "markdown",
   "metadata": {},
   "source": [
    "## Imports"
   ]
  },
  {
   "cell_type": "code",
   "execution_count": 1,
   "metadata": {},
   "outputs": [],
   "source": [
    "# Imports\n",
    "import numpy as np # for doing math stuff\n",
    "import tensorflow as tf # for building the modle\n",
    "from tensorflow import keras # for building the model\n",
    "import pandas as pd # for reading csv\n",
    "import csv # for writing csv\n",
    "import pydicom as pdcm # for reading the image data\n",
    "import matplotlib.pyplot as plt # for visualizing the data\n",
    "import os # for file manipulation\n",
    "from IPython.display import clear_output, display # for clearing output and displaying\n",
    "import timeit # for timing processes\n",
    "\n",
    "# Make sure matplotlib is inline\n",
    "%matplotlib inline"
   ]
  },
  {
   "cell_type": "markdown",
   "metadata": {},
   "source": [
    "## Helper functions\n",
    "Some functions to make life a bit easier."
   ]
  },
  {
   "cell_type": "code",
   "execution_count": 2,
   "metadata": {},
   "outputs": [],
   "source": [
    "# Function for displaying progress\n",
    "def display_progress(total, current):\n",
    "    clear_output(wait=True)\n",
    "    display(str(np.around((current / total) * 100, decimals=3)) + \"%\")"
   ]
  },
  {
   "cell_type": "code",
   "execution_count": 7,
   "metadata": {},
   "outputs": [],
   "source": [
    "# Plotting function for plotting images\n",
    "def plot_images(images, titles, figsize):\n",
    "    fig_shape = int(np.ceil(len(images) / 2))\n",
    "    fig = plt.figure(figsize=figsize)\n",
    "    for i in range(0, len(images)):\n",
    "        img = images[i]\n",
    "        ax = fig.add_subplot(fig_shape, fig_shape, i + 1)\n",
    "        if len(titles) != 0:\n",
    "            plt.title(titles[i])\n",
    "        ax.imshow(img, cmap=plt.cm.binary)\n",
    "        ax.axis('off')\n",
    "plt.show()"
   ]
  },
  {
   "cell_type": "markdown",
   "metadata": {},
   "source": [
    "## Reading the image data\n",
    "Handy tutorial for pydicom:\n",
    "https://mscipio.github.io/post/read_dicom_files_in_python/"
   ]
  },
  {
   "cell_type": "code",
   "execution_count": 8,
   "metadata": {
    "scrolled": true
   },
   "outputs": [
    {
     "data": {
      "text/plain": [
       "25684"
      ]
     },
     "execution_count": 8,
     "metadata": {},
     "output_type": "execute_result"
    }
   ],
   "source": [
    "# Get all the file names from the data/stage_1_train_images folder\n",
    "train_dcm_file_names = os.listdir('data/stage_1_train_images')\n",
    "# Read the files and put them in one array\n",
    "read_dcm = lambda filename: pdcm.read_file('data/stage_1_train_images/' + filename)\n",
    "train_dcm_files = list(map(read_dcm, train_dcm_file_names))\n",
    "len(train_dcm_files)"
   ]
  },
  {
   "cell_type": "markdown",
   "metadata": {},
   "source": [
    "## Quick visual of some scans"
   ]
  },
  {
   "cell_type": "code",
   "execution_count": 9,
   "metadata": {
    "scrolled": true
   },
   "outputs": [],
   "source": [
    "images = []\n",
    "titles = []\n",
    "for i in range(0, 4):\n",
    "    # Get image data\n",
    "    image = train_dcm_files[i].pixel_array\n",
    "    title = train_dcm_files[i].PatientID\n",
    "    images.append(image)\n",
    "    titles.append(title)\n",
    "\n",
    "# plot_images(images, titles, (10, 10))"
   ]
  },
  {
   "cell_type": "markdown",
   "metadata": {},
   "source": [
    "## Prepare the data\n",
    "Let's load the labels and prepare the data."
   ]
  },
  {
   "cell_type": "code",
   "execution_count": 11,
   "metadata": {},
   "outputs": [
    {
     "data": {
      "text/plain": [
       "25684"
      ]
     },
     "execution_count": 11,
     "metadata": {},
     "output_type": "execute_result"
    }
   ],
   "source": [
    "labels = pd.read_csv('data/stage_1_train_labels.csv', header=None)\n",
    "\n",
    "# Function for finding item in array (returns index)\n",
    "def find_item(array, item):\n",
    "    for i in range(0, len(array)):\n",
    "        if item == array[i][0]:\n",
    "            return i\n",
    "\n",
    "# Align the label array with the dcm files and show progress\n",
    "# This takes a while\n",
    "train_labels = []\n",
    "get_label = lambda x: labels.values[find_item(labels.values, x.PatientID)]\n",
    "train_labels = list(map(get_label, train_dcm_files))\n",
    "len(train_labels)"
   ]
  },
  {
   "cell_type": "code",
   "execution_count": 15,
   "metadata": {},
   "outputs": [],
   "source": [
    "# Reshape the data into the correct form\n",
    "# Reshape the labels\n",
    "final_train_labels = []\n",
    "target_map = {\n",
    "    0: [1, 0],\n",
    "    1: [0, 1]\n",
    "}\n",
    "for i in range(0, len(train_labels)):\n",
    "    target = int(train_labels[i][5])\n",
    "    final_train_labels.append(target_map[target])"
   ]
  },
  {
   "cell_type": "code",
   "execution_count": null,
   "metadata": {},
   "outputs": [],
   "source": [
    "# Reshape the images and normalize\n",
    "train_images = [x.pixel_array / 255.0 for x in train_dcm_files]\n",
    "# train_images = [x.pixel_array for x in train_dcm_files]"
   ]
  },
  {
   "cell_type": "code",
   "execution_count": null,
   "metadata": {},
   "outputs": [],
   "source": [
    "# Convert everything to an np array\n",
    "train_images = np.array(train_images)\n",
    "final_train_labels = np.array(final_train_labels)\n",
    "train_images.shape"
   ]
  },
  {
   "cell_type": "code",
   "execution_count": null,
   "metadata": {},
   "outputs": [],
   "source": [
    "# Save the data using numpy\n",
    "np.saves(\"data.npz\", train_images=train_images, final_train_labels=final_train_labels)"
   ]
  },
  {
   "cell_type": "code",
   "execution_count": null,
   "metadata": {},
   "outputs": [],
   "source": [
    "# Load the saved numpy data\n",
    "data = np.load(\"data.npz\")"
   ]
  },
  {
   "cell_type": "markdown",
   "metadata": {},
   "source": [
    "## Build the model\n",
    "Using keras"
   ]
  },
  {
   "cell_type": "code",
   "execution_count": null,
   "metadata": {},
   "outputs": [],
   "source": [
    "def create_model():\n",
    "    model = keras.Sequential()\n",
    "    model.add(keras.layers.Flatten())\n",
    "    model.add(keras.layers.Dense(200, activation=tf.nn.relu))\n",
    "    model.add(keras.layers.Dense(200, activation=tf.nn.relu))\n",
    "    model.add(keras.layers.Dense(2, activation=tf.nn.softmax))\n",
    "    return model\n",
    "\n",
    "model = create_model()\n",
    "model.compile(\n",
    "    optimizer='adam',\n",
    "    loss='sparse_categorical_crossentropy',\n",
    "    metrics=['accuracy']\n",
    ")\n",
    "model.fit(train_images, final_train_labels)"
   ]
  }
 ],
 "metadata": {
  "kernelspec": {
   "display_name": "Python 3",
   "language": "python",
   "name": "python3"
  },
  "language_info": {
   "codemirror_mode": {
    "name": "ipython",
    "version": 3
   },
   "file_extension": ".py",
   "mimetype": "text/x-python",
   "name": "python",
   "nbconvert_exporter": "python",
   "pygments_lexer": "ipython3",
   "version": "3.6.4"
  }
 },
 "nbformat": 4,
 "nbformat_minor": 2
}
